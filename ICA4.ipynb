{
  "nbformat": 4,
  "nbformat_minor": 0,
  "metadata": {
    "colab": {
      "provenance": [],
      "authorship_tag": "ABX9TyOLmqpd7inX35k3NMbVd/Yn",
      "include_colab_link": true
    },
    "kernelspec": {
      "name": "python3",
      "display_name": "Python 3"
    },
    "language_info": {
      "name": "python"
    }
  },
  "cells": [
    {
      "cell_type": "markdown",
      "metadata": {
        "id": "view-in-github",
        "colab_type": "text"
      },
      "source": [
        "<a href=\"https://colab.research.google.com/github/JoshuaK007/CSC-302/blob/main/ICA4.ipynb\" target=\"_parent\"><img src=\"https://colab.research.google.com/assets/colab-badge.svg\" alt=\"Open In Colab\"/></a>"
      ]
    },
    {
      "cell_type": "code",
      "source": [
        "# This is a copy of my code from following the PythinCrashinClass video\n",
        "# The original is in the Pandas_In_Class_Notebook.ipynb\n",
        "\n"
      ],
      "metadata": {
        "id": "mFKzdors44uh"
      },
      "execution_count": null,
      "outputs": []
    },
    {
      "cell_type": "code",
      "execution_count": null,
      "metadata": {
        "id": "1QD-8d0l4spA"
      },
      "outputs": [],
      "source": [
        "ICA4\n",
        "[ ]\n",
        " import pandas as pd\n",
        "legos = pd.read_csv('/content/drive/MyDrive/DATA/lego_setsHB.csv')\n",
        "legos.head()\n",
        "\n",
        "[ ]\n",
        " legos.info()\n",
        "\n",
        "<class 'pandas.core.frame.DataFrame'>\n",
        "RangeIndex: 12261 entries, 0 to 12260\n",
        "Data columns (total 8 columns):\n",
        " #   Column             Non-Null Count  Dtype\n",
        "---  ------             --------------  -----\n",
        " 0   list_price         12261 non-null  float64\n",
        " 1   num_reviews        10641 non-null  float64\n",
        " 2   piece_count        12261 non-null  int64\n",
        " 3   play_star_rating   10486 non-null  float64\n",
        " 4   prod_id            12261 non-null  int64\n",
        " 5   review_difficulty  10206 non-null  object\n",
        " 6   star_rating        10641 non-null  float64\n",
        " 7   val_star_rating    10466 non-null  float64\n",
        "dtypes: float64(5), int64(2), object(1)\n",
        "memory usage: 766.4+ KB\n",
        "[ ]\n",
        " legos.describe()\n",
        "\n",
        "[ ]\n",
        " legos[legos['star_rating']>=4]\n",
        "\n",
        "[ ]\n",
        " legos[legos['star_rating']>=4].count()\n",
        "list_price           9563\n",
        "num_reviews          9563\n",
        "piece_count          9563\n",
        "play_star_rating     9408\n",
        "prod_id              9563\n",
        "review_difficulty    9128\n",
        "star_rating          9563\n",
        "val_star_rating      9388\n",
        "dtype: int64\n",
        "Double-click (or enter) to edit\n",
        "[ ]\n",
        " legos4 = legos[legos['star_rating']>=4]\n",
        "legos4.shape\n",
        "(9563, 8)\n",
        "[ ]\n",
        " legos.loc[legos['star_rating']>=4, ['list_price']].mean()\n",
        "list_price    68.24627\n",
        "dtype: float64\n",
        "[ ]\n",
        "legos4['list_price'].mean()\n",
        "\n",
        "68.24627018717976"
      ]
    }
  ]
}