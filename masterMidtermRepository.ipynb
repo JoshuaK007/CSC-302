{
  "nbformat": 4,
  "nbformat_minor": 0,
  "metadata": {
    "colab": {
      "provenance": [],
      "authorship_tag": "ABX9TyNWy8pimNI6I2A/7Y4gsxrj",
      "include_colab_link": true
    },
    "kernelspec": {
      "name": "python3",
      "display_name": "Python 3"
    },
    "language_info": {
      "name": "python"
    }
  },
  "cells": [
    {
      "cell_type": "markdown",
      "metadata": {
        "id": "view-in-github",
        "colab_type": "text"
      },
      "source": [
        "<a href=\"https://colab.research.google.com/github/JoshuaK007/CSC-302/blob/main/masterMidtermRepository.ipynb\" target=\"_parent\"><img src=\"https://colab.research.google.com/assets/colab-badge.svg\" alt=\"Open In Colab\"/></a>"
      ]
    },
    {
      "cell_type": "code",
      "source": [
        "#Kristen"
      ],
      "metadata": {
        "id": "smf0SM_W1vUV"
      },
      "execution_count": null,
      "outputs": []
    },
    {
      "cell_type": "markdown",
      "source": [
        "\n",
        "https://github.com/KCarterUMich/Data_Class_Midterm_RStudio/blob/main/MidTerm.R"
      ],
      "metadata": {
        "id": "DxXLbEh51WrH"
      }
    },
    {
      "cell_type": "code",
      "execution_count": null,
      "metadata": {
        "id": "P7NSzlax1Mc4"
      },
      "outputs": [],
      "source": [
        "library(ggplot2)\n",
        "library(readr)\n",
        "library(dplyr)\n",
        "library(tidyr)\n",
        "library(scales)\n",
        "\n",
        "data <- read_csv('/Users/kristenpechin/Desktop/MVA_Vehicle_Sales_Counts_by_Month_for_Calendar_Year_2002_through_December_2023.csv')\n",
        "\n",
        "names(data)[names(data) == 'Year '] <- 'Year'\n",
        "\n",
        "yearly_sales <- data %>%\n",
        "  group_by(Year) %>%\n",
        "  summarize(`Total Sales New` = sum(`Total Sales New`, na.rm = TRUE),\n",
        "            `Total Sales Used` = sum(`Total Sales Used`, na.rm = TRUE))\n",
        "\n",
        "years_to_plot <- c(2019, 2020, 2021, 2022)\n",
        "sales_to_plot <- yearly_sales %>%\n",
        "  filter(Year %in% years_to_plot)\n",
        "\n",
        "sales_to_plot_melted <- sales_to_plot %>%\n",
        "  pivot_longer(cols = c(`Total Sales New`, `Total Sales Used`),\n",
        "               names_to = \"Sales_Type\",\n",
        "               values_to = \"Total_Sales\")\n",
        "\n",
        "ggplot(sales_to_plot_melted, aes(x = factor(Year), y = Total_Sales, fill = Sales_Type)) +\n",
        "  geom_bar(stat = \"identity\", position = \"dodge\") +\n",
        "  scale_fill_manual(values = c('skyblue', 'steelblue')) +\n",
        "  ggtitle('Comparison of New and Used Vehicle Sales (2019-2022)') +\n",
        "  xlab('Year') +\n",
        "  ylab('Total Sales') +\n",
        "  theme_minimal() +\n",
        "  scale_y_continuous(labels = scales::comma) +\n",
        "  theme(legend.title = element_text(size = 12),\n",
        "        legend.text = element_text(size = 10))"
      ]
    },
    {
      "cell_type": "code",
      "source": [
        "#Troy"
      ],
      "metadata": {
        "id": "B4oB9Sx815XB"
      },
      "execution_count": null,
      "outputs": []
    },
    {
      "cell_type": "code",
      "source": [
        "https://github.com/faytroy/CSC-302/blob/main/CSC-302%20Troy%20A%20Gilchrist%20Midterm.R"
      ],
      "metadata": {
        "id": "WGRUJ5ZZ1_n-"
      },
      "execution_count": null,
      "outputs": []
    },
    {
      "cell_type": "code",
      "source": [
        "library(ggplot2)\n",
        "library(dplyr)\n",
        "library(tidyr)\n",
        "data <- read.csv(\"C:/Users/RAC_P/OneDrive/Documents/UMICH/CSC-302/Midterm/table_01_17_052623_r1.csv\")\n",
        "\n",
        "data_summary <- data %>%\n",
        "  group_by(Year, Sale_Lease_Type) %>%\n",
        "  summarise(Number_Vehicles_Thousands = sum(Number_Vehicles_Thousands)) %>%\n",
        "  ungroup() %>%\n",
        "  group_by(Year) %>%\n",
        "  mutate(Percentage = Number_Vehicles_Thousands / sum(Number_Vehicles_Thousands) * 100)\n",
        "\n",
        "ggplot(data_summary, aes(x = Year, y = Number_Vehicles_Thousands, fill = Sale_Lease_Type)) +\n",
        "  geom_bar(stat = \"identity\", position = \"stack\") +\n",
        "  geom_text(aes(label = paste0(round(Percentage, 1), \"%\")),\n",
        "            position = position_stack(vjust = 0.5),\n",
        "            color = \"black\") +\n",
        "  scale_fill_manual(values = scales::brewer_pal(palette = \"Blues\")(n_distinct(data_summary$Sale_Lease_Type))) +\n",
        "  labs(y = \"Sales (in Millions)\", x = \"Year\", fill = \"Sale or Lease\") +\n",
        "  theme_minimal()\n",
        "\n",
        "\n",
        "\n",
        ""
      ],
      "metadata": {
        "id": "O7y-Asdl2Ag7"
      },
      "execution_count": null,
      "outputs": []
    },
    {
      "cell_type": "code",
      "source": [
        "#Ashley"
      ],
      "metadata": {
        "id": "XBkUrSni2KXN"
      },
      "execution_count": null,
      "outputs": []
    },
    {
      "cell_type": "code",
      "source": [
        "https://github.com/ashleydangelo/CSC-302/blob/main/car_sales_analysis.ipynb"
      ],
      "metadata": {
        "id": "HXigQSj-2MW5"
      },
      "execution_count": null,
      "outputs": []
    },
    {
      "cell_type": "code",
      "source": [
        "plt.plot(range(2013, 2023), df_last_10y.iloc[1, 1:11], color='blue', linestyle='-', label=df_last_10y.iloc[1, 11])\n",
        "plt.plot(range(2013, 2023), df_last_10y.iloc[2, 1:11], color='magenta', linestyle='-', label=df_last_10y.iloc[2, 11])\n",
        "plt.plot(range(2013, 2023), df_last_10y.iloc[3, 1:11], color='black', linestyle='-', label=df_last_10y.iloc[3, 11])\n",
        "plt.plot(range(2013, 2023), df_last_10y.iloc[4, 1:11], color='yellow', linestyle='-', label=df_last_10y.iloc[4, 11])\n",
        "plt.plot(range(2013, 2023), df_last_10y.iloc[5, 1:11], color='green', linestyle='-', label=df_last_10y.iloc[5, 11])\n",
        "plt.plot(range(2013, 2023), df_last_10y.iloc[6, 1:11], color='orange', linestyle='-', label=df_last_10y.iloc[6, 11])\n",
        "plt.plot(range(2013, 2023), df_last_10y.iloc[7, 1:11], color='red', linestyle='-', label=df_last_10y.iloc[7, 11])\n",
        "plt.ylabel(\"total number of sold cars\")\n",
        "plt.xlabel(\"year\")\n",
        "plt.title(\"Car sales in years 2013-2022\")\n",
        "plt.legend()\n",
        "plt.show()\n"
      ],
      "metadata": {
        "id": "EhhE9rte3R7s"
      },
      "execution_count": null,
      "outputs": []
    },
    {
      "cell_type": "code",
      "source": [
        "#Joshua"
      ],
      "metadata": {
        "id": "g4NoAc5F2fQp"
      },
      "execution_count": null,
      "outputs": []
    },
    {
      "cell_type": "code",
      "source": [
        "https://github.com/JoshuaK007/CSC-302/blob/main/NYC_Accidents_2020_Heatmap.ipynb"
      ],
      "metadata": {
        "id": "1vdV5Vy52pdc"
      },
      "execution_count": null,
      "outputs": []
    },
    {
      "cell_type": "code",
      "source": [
        "import pandas as pd\n",
        "import matplotlib.pyplot as plt\n",
        "import seaborn as sns\n",
        "\n",
        "NYC_Accident_data = pd.read_csv('/content/drive/MyDrive/NYC Accidents 2020.csv')\n",
        "NYC_Accident_data['CRASH DATE'] = pd.to_datetime(NYC_Accident_data['CRASH DATE'])\n",
        "NYC_Accident_data['Month'] = NYC_Accident_data['CRASH DATE'].dt.month\n",
        "borough_accidents_data = NYC_Accident_data[['Month', 'BOROUGH']].dropna()\n",
        "monthly_borough_accidents = borough_accidents_data.groupby(['Month', 'BOROUGH']).size().reset_index(name='Accident Count')\n",
        "pivot_data = monthly_borough_accidents.pivot(index='Month', columns='BOROUGH', values='Accident Count').fillna(0)\n",
        "plt.figure(figsize=(12, 8))\n",
        "sns.heatmap(pivot_data, annot=True, fmt=\".0f\", cmap=\"YlGnBu\")\n",
        "plt.title('Heatmap of Accidents per Month by Borough in 2020')\n",
        "plt.xlabel('Borough')\n",
        "plt.ylabel('Month')\n",
        "plt.show()\n",
        ""
      ],
      "metadata": {
        "id": "TJZDw3rP2qna"
      },
      "execution_count": null,
      "outputs": []
    }
  ]
}